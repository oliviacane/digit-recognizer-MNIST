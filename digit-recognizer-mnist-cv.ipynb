{
 "cells": [
  {
   "cell_type": "code",
   "execution_count": 1,
   "id": "cd18ae0f",
   "metadata": {
    "_cell_guid": "b1076dfc-b9ad-4769-8c92-a6c4dae69d19",
    "_uuid": "8f2839f25d086af736a60e9eeb907d3b93b6e0e5",
    "execution": {
     "iopub.execute_input": "2023-12-23T21:25:11.005475Z",
     "iopub.status.busy": "2023-12-23T21:25:11.005111Z",
     "iopub.status.idle": "2023-12-23T21:25:32.067051Z",
     "shell.execute_reply": "2023-12-23T21:25:32.066033Z"
    },
    "papermill": {
     "duration": 21.075338,
     "end_time": "2023-12-23T21:25:32.069448",
     "exception": false,
     "start_time": "2023-12-23T21:25:10.994110",
     "status": "completed"
    },
    "tags": []
   },
   "outputs": [
    {
     "name": "stderr",
     "output_type": "stream",
     "text": [
      "/opt/conda/lib/python3.10/site-packages/scipy/__init__.py:146: UserWarning: A NumPy version >=1.16.5 and <1.23.0 is required for this version of SciPy (detected version 1.24.3\n",
      "  warnings.warn(f\"A NumPy version >={np_minversion} and <{np_maxversion}\"\n"
     ]
    }
   ],
   "source": [
    "import numpy as np \n",
    "import pandas as pd \n",
    "import matplotlib.pyplot as plt\n",
    "import csv\n",
    "import os\n",
    "\n",
    "from sklearn.model_selection import train_test_split\n",
    "\n",
    "import tensorflow as tf\n",
    "from tensorflow.keras.utils import load_img, array_to_img\n",
    "from tensorflow.keras.preprocessing.image import ImageDataGenerator"
   ]
  },
  {
   "cell_type": "markdown",
   "id": "965c865c",
   "metadata": {
    "papermill": {
     "duration": 0.008974,
     "end_time": "2023-12-23T21:25:32.088326",
     "exception": false,
     "start_time": "2023-12-23T21:25:32.079352",
     "status": "completed"
    },
    "tags": []
   },
   "source": [
    "### Constants "
   ]
  },
  {
   "cell_type": "code",
   "execution_count": 2,
   "id": "55bf891d",
   "metadata": {
    "execution": {
     "iopub.execute_input": "2023-12-23T21:25:32.107841Z",
     "iopub.status.busy": "2023-12-23T21:25:32.107260Z",
     "iopub.status.idle": "2023-12-23T21:25:32.111482Z",
     "shell.execute_reply": "2023-12-23T21:25:32.110642Z"
    },
    "papermill": {
     "duration": 0.016031,
     "end_time": "2023-12-23T21:25:32.113390",
     "exception": false,
     "start_time": "2023-12-23T21:25:32.097359",
     "status": "completed"
    },
    "tags": []
   },
   "outputs": [],
   "source": [
    "random_state = 42\n",
    "val_split_size = 0.2\n",
    "training_mode = False "
   ]
  },
  {
   "cell_type": "markdown",
   "id": "b2944115",
   "metadata": {
    "papermill": {
     "duration": 0.008948,
     "end_time": "2023-12-23T21:25:32.131380",
     "exception": false,
     "start_time": "2023-12-23T21:25:32.122432",
     "status": "completed"
    },
    "tags": []
   },
   "source": [
    "### Extract Data from CSV to Numpy Arrays"
   ]
  },
  {
   "cell_type": "code",
   "execution_count": 3,
   "id": "adc4837d",
   "metadata": {
    "execution": {
     "iopub.execute_input": "2023-12-23T21:25:32.150377Z",
     "iopub.status.busy": "2023-12-23T21:25:32.150112Z",
     "iopub.status.idle": "2023-12-23T21:25:32.158192Z",
     "shell.execute_reply": "2023-12-23T21:25:32.157476Z"
    },
    "papermill": {
     "duration": 0.019663,
     "end_time": "2023-12-23T21:25:32.160019",
     "exception": false,
     "start_time": "2023-12-23T21:25:32.140356",
     "status": "completed"
    },
    "tags": []
   },
   "outputs": [],
   "source": [
    "def parse_data_from_csv_labels(filename):\n",
    "  return np.loadtxt(filename, delimiter=',', skiprows=1, usecols=0).astype(np.float64)\n",
    "\n",
    "def parse_data_from_csv_images(filename, end_range, start_range=1):\n",
    "  images = np.loadtxt(filename, delimiter=',', skiprows=1, usecols=list(range(start_range, end_range))).astype(np.float64)\n",
    "  images = np.reshape(images, (-1, 28, 28))\n",
    "  images = np.expand_dims(images, -1)\n",
    "  return images\n",
    "\n",
    "def parse_data_from_csv(filename, labels_included = True): \n",
    "    with open(filename) as file:\n",
    "        reader = csv.reader(file, delimiter=',')\n",
    "        header = next(reader) \n",
    "        total_columns = len(header)\n",
    "    if labels_included: \n",
    "        labels = parse_data_from_csv_labels(filename)\n",
    "        images = parse_data_from_csv_images(filename, end_range=total_columns)\n",
    "    else: \n",
    "        labels = np.array([])\n",
    "        images = parse_data_from_csv_images(filename, start_range=0, end_range=total_columns)\n",
    "    return images, labels\n",
    "    "
   ]
  },
  {
   "cell_type": "code",
   "execution_count": 4,
   "id": "cf1f2e55",
   "metadata": {
    "execution": {
     "iopub.execute_input": "2023-12-23T21:25:32.179062Z",
     "iopub.status.busy": "2023-12-23T21:25:32.178780Z",
     "iopub.status.idle": "2023-12-23T21:25:36.842892Z",
     "shell.execute_reply": "2023-12-23T21:25:36.841921Z"
    },
    "papermill": {
     "duration": 4.676144,
     "end_time": "2023-12-23T21:25:36.845134",
     "exception": false,
     "start_time": "2023-12-23T21:25:32.168990",
     "status": "completed"
    },
    "tags": []
   },
   "outputs": [
    {
     "name": "stdout",
     "output_type": "stream",
     "text": [
      "train shape (42000, 28, 28, 1)\n"
     ]
    }
   ],
   "source": [
    "train_path = \"/kaggle/input/digit-recognizer/train.csv\"\n",
    "total_images, total_labels = parse_data_from_csv(train_path)\n",
    "print(f\"train shape {total_images.shape}\")"
   ]
  },
  {
   "cell_type": "code",
   "execution_count": 5,
   "id": "2055688a",
   "metadata": {
    "execution": {
     "iopub.execute_input": "2023-12-23T21:25:36.864937Z",
     "iopub.status.busy": "2023-12-23T21:25:36.864635Z",
     "iopub.status.idle": "2023-12-23T21:25:36.873455Z",
     "shell.execute_reply": "2023-12-23T21:25:36.872640Z"
    },
    "papermill": {
     "duration": 0.020882,
     "end_time": "2023-12-23T21:25:36.875493",
     "exception": false,
     "start_time": "2023-12-23T21:25:36.854611",
     "status": "completed"
    },
    "tags": []
   },
   "outputs": [
    {
     "name": "stdout",
     "output_type": "stream",
     "text": [
      "unique labels [0. 1. 2. 3. 4. 5. 6. 7. 8. 9.]\n",
      "count of unique labels 10\n"
     ]
    }
   ],
   "source": [
    "unique = np.unique(total_labels)\n",
    "print(f\"unique labels {unique}\")\n",
    "print(f\"count of unique labels {len(unique)}\")"
   ]
  },
  {
   "cell_type": "code",
   "execution_count": 6,
   "id": "882af7a7",
   "metadata": {
    "execution": {
     "iopub.execute_input": "2023-12-23T21:25:36.897573Z",
     "iopub.status.busy": "2023-12-23T21:25:36.897310Z",
     "iopub.status.idle": "2023-12-23T21:25:39.113151Z",
     "shell.execute_reply": "2023-12-23T21:25:39.112221Z"
    },
    "papermill": {
     "duration": 2.228688,
     "end_time": "2023-12-23T21:25:39.115378",
     "exception": false,
     "start_time": "2023-12-23T21:25:36.886690",
     "status": "completed"
    },
    "tags": []
   },
   "outputs": [
    {
     "name": "stdout",
     "output_type": "stream",
     "text": [
      "test shape (28000, 28, 28, 1)\n"
     ]
    }
   ],
   "source": [
    "test_path = \"/kaggle/input/digit-recognizer/test.csv\"\n",
    "test_images, test_labels = parse_data_from_csv(test_path, labels_included=False)\n",
    "print(f\"test shape {test_images.shape}\")"
   ]
  },
  {
   "cell_type": "code",
   "execution_count": 7,
   "id": "e7043bb3",
   "metadata": {
    "execution": {
     "iopub.execute_input": "2023-12-23T21:25:39.135818Z",
     "iopub.status.busy": "2023-12-23T21:25:39.135486Z",
     "iopub.status.idle": "2023-12-23T21:25:39.142285Z",
     "shell.execute_reply": "2023-12-23T21:25:39.141460Z"
    },
    "papermill": {
     "duration": 0.01928,
     "end_time": "2023-12-23T21:25:39.144243",
     "exception": false,
     "start_time": "2023-12-23T21:25:39.124963",
     "status": "completed"
    },
    "tags": []
   },
   "outputs": [],
   "source": [
    "def plot_digits(images, labels=None, title=\"\", section=0):\n",
    "  number_of_rows = 3 \n",
    "  number_of_cols = 4\n",
    "    \n",
    "  total_images = len(images)\n",
    "  total_displayed = number_of_rows*number_of_cols\n",
    "    \n",
    "  start_value = total_displayed*section\n",
    "  end_value = start_value + total_displayed\n",
    "\n",
    "  fig, axes = plt.subplots(number_of_rows, number_of_cols, figsize=(12, 12))\n",
    "\n",
    "  for index in range(start_value, end_value):\n",
    "    img = images[index]\n",
    "    plt.subplot(number_of_rows, number_of_cols, (index % total_displayed) + 1)\n",
    "    plt.imshow(img)\n",
    "    if labels is not None:\n",
    "        plt.title(f\"{labels[index].astype(int)}\")\n",
    "\n",
    "  plt.tight_layout()\n",
    "  plt.suptitle(title)\n",
    "  plt.show()"
   ]
  },
  {
   "cell_type": "code",
   "execution_count": 8,
   "id": "543fb0a3",
   "metadata": {
    "execution": {
     "iopub.execute_input": "2023-12-23T21:25:39.163849Z",
     "iopub.status.busy": "2023-12-23T21:25:39.163543Z",
     "iopub.status.idle": "2023-12-23T21:25:41.637262Z",
     "shell.execute_reply": "2023-12-23T21:25:41.636369Z"
    },
    "papermill": {
     "duration": 2.485773,
     "end_time": "2023-12-23T21:25:41.639247",
     "exception": false,
     "start_time": "2023-12-23T21:25:39.153474",
     "status": "completed"
    },
    "tags": []
   },
   "outputs": [
    {
     "data": {
      "image/png": "[encoded data removed]",
      "text/plain": [
       "<Figure size 1200x1200 with 12 Axes>"
      ]
     },
     "metadata": {},
     "output_type": "display_data"
    }
   ],
   "source": [
    "plot_digits(total_images, total_labels, title=\"Training Images\", section=5)"
   ]
  },
  {
   "cell_type": "code",
   "execution_count": 9,
   "id": "0e5b0d25",
   "metadata": {
    "execution": {
     "iopub.execute_input": "2023-12-23T21:25:41.660790Z",
     "iopub.status.busy": "2023-12-23T21:25:41.660419Z",
     "iopub.status.idle": "2023-12-23T21:25:43.603313Z",
     "shell.execute_reply": "2023-12-23T21:25:43.602347Z"
    },
    "papermill": {
     "duration": 1.955838,
     "end_time": "2023-12-23T21:25:43.605387",
     "exception": false,
     "start_time": "2023-12-23T21:25:41.649549",
     "status": "completed"
    },
    "tags": []
   },
   "outputs": [
    {
     "data": {
      "image/png": "[encoded data removed]",
      "text/plain": [
       "<Figure size 1200x1200 with 12 Axes>"
      ]
     },
     "metadata": {},
     "output_type": "display_data"
    }
   ],
   "source": [
    "plot_digits(test_images, title=\"Test Images\")"
   ]
  },
  {
   "cell_type": "markdown",
   "id": "e8da63d2",
   "metadata": {
    "papermill": {
     "duration": 0.010343,
     "end_time": "2023-12-23T21:25:43.626802",
     "exception": false,
     "start_time": "2023-12-23T21:25:43.616459",
     "status": "completed"
    },
    "tags": []
   },
   "source": [
    "### Create ImageDataGenerators"
   ]
  },
  {
   "cell_type": "code",
   "execution_count": 10,
   "id": "4a736127",
   "metadata": {
    "execution": {
     "iopub.execute_input": "2023-12-23T21:25:43.649193Z",
     "iopub.status.busy": "2023-12-23T21:25:43.648905Z",
     "iopub.status.idle": "2023-12-23T21:25:43.658041Z",
     "shell.execute_reply": "2023-12-23T21:25:43.657194Z"
    },
    "papermill": {
     "duration": 0.022605,
     "end_time": "2023-12-23T21:25:43.659842",
     "exception": false,
     "start_time": "2023-12-23T21:25:43.637237",
     "status": "completed"
    },
    "tags": []
   },
   "outputs": [],
   "source": [
    "def train_generator_creator(images, labels):\n",
    "\n",
    "  train_datagen = ImageDataGenerator(\n",
    "      rescale = 1./255,\n",
    "      rotation_range=35,\n",
    "      width_shift_range=0.1,\n",
    "      height_shift_range=0.2,\n",
    "      shear_range=0.3,\n",
    "      fill_mode='constant', \n",
    "      cval=0)\n",
    "\n",
    "  train_generator = train_datagen.flow(x=images,\n",
    "                                       y=labels,\n",
    "                                       batch_size=32)\n",
    "\n",
    "  return train_generator\n",
    "\n",
    "def val_generator_creator(images, labels, shuffle=True):\n",
    "\n",
    "  validation_datagen = ImageDataGenerator(rescale = 1./255)\n",
    "\n",
    "  validation_generator = validation_datagen.flow(x=images,\n",
    "                                                 y=labels,\n",
    "                                                 shuffle=shuffle,\n",
    "                                                 batch_size=32)\n",
    "  return validation_generator\n",
    "\n",
    "def train_val_generator_creator(images, labels):\n",
    "    images_train, images_val, label_train, label_val = train_test_split(images, labels, test_size=val_split_size, random_state=random_state)\n",
    "    train_generator = train_generator_creator(images_train, label_train)\n",
    "    validation_generator = val_generator_creator(images_val, label_val)\n",
    "    return train_generator, validation_generator\n",
    "\n",
    "def val_generator_non_shuffled_creator(images, labels):\n",
    "    _, images_val, _, label_val = train_test_split(images, labels, test_size=val_split_size, random_state=random_state)\n",
    "    return val_generator_creator(images_val, label_val, shuffle=False)\n",
    "\n",
    "def total_generator_creator(images, labels): \n",
    "    return train_generator_creator(images, labels)"
   ]
  },
  {
   "cell_type": "code",
   "execution_count": 11,
   "id": "957e8345",
   "metadata": {
    "execution": {
     "iopub.execute_input": "2023-12-23T21:25:43.682177Z",
     "iopub.status.busy": "2023-12-23T21:25:43.681921Z",
     "iopub.status.idle": "2023-12-23T21:25:43.887518Z",
     "shell.execute_reply": "2023-12-23T21:25:43.886303Z"
    },
    "papermill": {
     "duration": 0.220092,
     "end_time": "2023-12-23T21:25:43.890650",
     "exception": false,
     "start_time": "2023-12-23T21:25:43.670558",
     "status": "completed"
    },
    "tags": []
   },
   "outputs": [],
   "source": [
    "train_generator, validation_generator = train_val_generator_creator(total_images, total_labels)\n",
    "total_generator = total_generator_creator(total_images, total_labels)"
   ]
  },
  {
   "cell_type": "markdown",
   "id": "192520d7",
   "metadata": {
    "papermill": {
     "duration": 0.010937,
     "end_time": "2023-12-23T21:25:43.914195",
     "exception": false,
     "start_time": "2023-12-23T21:25:43.903258",
     "status": "completed"
    },
    "tags": []
   },
   "source": [
    "### Scale Test Data"
   ]
  },
  {
   "cell_type": "code",
   "execution_count": 12,
   "id": "06c68259",
   "metadata": {
    "execution": {
     "iopub.execute_input": "2023-12-23T21:25:43.936742Z",
     "iopub.status.busy": "2023-12-23T21:25:43.936389Z",
     "iopub.status.idle": "2023-12-23T21:25:49.668713Z",
     "shell.execute_reply": "2023-12-23T21:25:49.667925Z"
    },
    "papermill": {
     "duration": 5.746212,
     "end_time": "2023-12-23T21:25:49.671037",
     "exception": false,
     "start_time": "2023-12-23T21:25:43.924825",
     "status": "completed"
    },
    "tags": []
   },
   "outputs": [],
   "source": [
    "rescale_layer = tf.keras.layers.Rescaling(1./255)\n",
    "test_images = rescale_layer(test_images)"
   ]
  },
  {
   "cell_type": "markdown",
   "id": "379490a0",
   "metadata": {
    "papermill": {
     "duration": 0.010319,
     "end_time": "2023-12-23T21:25:49.692328",
     "exception": false,
     "start_time": "2023-12-23T21:25:49.682009",
     "status": "completed"
    },
    "tags": []
   },
   "source": [
    "### Model"
   ]
  },
  {
   "cell_type": "code",
   "execution_count": 13,
   "id": "a747dc49",
   "metadata": {
    "execution": {
     "iopub.execute_input": "2023-12-23T21:25:49.714537Z",
     "iopub.status.busy": "2023-12-23T21:25:49.714249Z",
     "iopub.status.idle": "2023-12-23T21:25:49.722418Z",
     "shell.execute_reply": "2023-12-23T21:25:49.721767Z"
    },
    "papermill": {
     "duration": 0.021449,
     "end_time": "2023-12-23T21:25:49.724189",
     "exception": false,
     "start_time": "2023-12-23T21:25:49.702740",
     "status": "completed"
    },
    "tags": []
   },
   "outputs": [],
   "source": [
    "def create_model():\n",
    "\n",
    "  model = tf.keras.models.Sequential([\n",
    "    # This is the first convolution\n",
    "    tf.keras.layers.Conv2D(64, (3,3), activation='relu', input_shape=(28, 28, 1)),\n",
    "    tf.keras.layers.MaxPooling2D(2, 2),\n",
    "    # The second convolution\n",
    "    tf.keras.layers.Conv2D(64, (3,3), activation='relu'),\n",
    "    tf.keras.layers.MaxPooling2D(2,2),\n",
    "    # Flatten the results to feed into a DNN\n",
    "    tf.keras.layers.Flatten(),\n",
    "    tf.keras.layers.Dense(256, activation='relu'),\n",
    "    tf.keras.layers.Dense(128, activation='relu'),\n",
    "    tf.keras.layers.Dense(10, activation='softmax')\n",
    "])\n",
    "\n",
    "  model.compile(optimizer = tf.keras.optimizers.Adam(),\n",
    "                loss = 'sparse_categorical_crossentropy',\n",
    "                metrics=['accuracy'])\n",
    "\n",
    "  return model"
   ]
  },
  {
   "cell_type": "code",
   "execution_count": 14,
   "id": "cb7c7638",
   "metadata": {
    "execution": {
     "iopub.execute_input": "2023-12-23T21:25:49.746130Z",
     "iopub.status.busy": "2023-12-23T21:25:49.745870Z",
     "iopub.status.idle": "2023-12-23T21:25:49.902875Z",
     "shell.execute_reply": "2023-12-23T21:25:49.901973Z"
    },
    "papermill": {
     "duration": 0.176709,
     "end_time": "2023-12-23T21:25:49.911324",
     "exception": false,
     "start_time": "2023-12-23T21:25:49.734615",
     "status": "completed"
    },
    "tags": []
   },
   "outputs": [
    {
     "name": "stdout",
     "output_type": "stream",
     "text": [
      "Model: \"sequential\"\n",
      "_________________________________________________________________\n",
      " Layer (type)                Output Shape              Param #   \n",
      "=================================================================\n",
      " conv2d (Conv2D)             (None, 26, 26, 64)        640       \n",
      "                                                                 \n",
      " max_pooling2d (MaxPooling2  (None, 13, 13, 64)        0         \n",
      " D)                                                              \n",
      "                                                                 \n",
      " conv2d_1 (Conv2D)           (None, 11, 11, 64)        36928     \n",
      "                                                                 \n",
      " max_pooling2d_1 (MaxPoolin  (None, 5, 5, 64)          0         \n",
      " g2D)                                                            \n",
      "                                                                 \n",
      " flatten (Flatten)           (None, 1600)              0         \n",
      "                                                                 \n",
      " dense (Dense)               (None, 256)               409856    \n",
      "                                                                 \n",
      " dense_1 (Dense)             (None, 128)               32896     \n",
      "                                                                 \n",
      " dense_2 (Dense)             (None, 10)                1290      \n",
      "                                                                 \n",
      "=================================================================\n",
      "Total params: 481610 (1.84 MB)\n",
      "Trainable params: 481610 (1.84 MB)\n",
      "Non-trainable params: 0 (0.00 Byte)\n",
      "_________________________________________________________________\n"
     ]
    }
   ],
   "source": [
    "model = create_model()\n",
    "\n",
    "model.summary()"
   ]
  },
  {
   "cell_type": "code",
   "execution_count": 15,
   "id": "0c3d1607",
   "metadata": {
    "execution": {
     "iopub.execute_input": "2023-12-23T21:25:49.937823Z",
     "iopub.status.busy": "2023-12-23T21:25:49.937505Z",
     "iopub.status.idle": "2023-12-23T21:25:49.943787Z",
     "shell.execute_reply": "2023-12-23T21:25:49.942929Z"
    },
    "papermill": {
     "duration": 0.021599,
     "end_time": "2023-12-23T21:25:49.945736",
     "exception": false,
     "start_time": "2023-12-23T21:25:49.924137",
     "status": "completed"
    },
    "tags": []
   },
   "outputs": [],
   "source": [
    "def scheduler(epoch, lr):\n",
    "    if epoch < 7:\n",
    "        return lr\n",
    "    else:\n",
    "        return lr * tf.math.exp(-0.1)\n",
    "\n",
    "\n",
    "learning_rate_callback = tf.keras.callbacks.LearningRateScheduler(scheduler)\n",
    "\n",
    "if training_mode: \n",
    "    early_stop_callback = tf.keras.callbacks.EarlyStopping(monitor='val_loss',\n",
    "                                            restore_best_weights=True, \n",
    "                                            start_from_epoch=8,\n",
    "                                            mode='min',\n",
    "                                            patience=7)\n",
    "    history = model.fit(train_generator,\n",
    "                        epochs=100,\n",
    "                        validation_data=validation_generator,\n",
    "                        callbacks=[early_stop_callback, learning_rate_callback],\n",
    "                        verbose=1)"
   ]
  },
  {
   "cell_type": "markdown",
   "id": "9e08ba6b",
   "metadata": {
    "papermill": {
     "duration": 0.012445,
     "end_time": "2023-12-23T21:25:49.970650",
     "exception": false,
     "start_time": "2023-12-23T21:25:49.958205",
     "status": "completed"
    },
    "tags": []
   },
   "source": [
    "### Plot Training and Validation History "
   ]
  },
  {
   "cell_type": "code",
   "execution_count": 16,
   "id": "a53f081f",
   "metadata": {
    "execution": {
     "iopub.execute_input": "2023-12-23T21:25:50.037765Z",
     "iopub.status.busy": "2023-12-23T21:25:50.037406Z",
     "iopub.status.idle": "2023-12-23T21:25:50.042408Z",
     "shell.execute_reply": "2023-12-23T21:25:50.041380Z"
    },
    "papermill": {
     "duration": 0.020926,
     "end_time": "2023-12-23T21:25:50.044640",
     "exception": false,
     "start_time": "2023-12-23T21:25:50.023714",
     "status": "completed"
    },
    "tags": []
   },
   "outputs": [],
   "source": [
    "if training_mode: \n",
    "    history_df = pd.DataFrame(history.history)"
   ]
  },
  {
   "cell_type": "code",
   "execution_count": 17,
   "id": "8ebe2120",
   "metadata": {
    "execution": {
     "iopub.execute_input": "2023-12-23T21:25:50.073960Z",
     "iopub.status.busy": "2023-12-23T21:25:50.073679Z",
     "iopub.status.idle": "2023-12-23T21:25:50.078366Z",
     "shell.execute_reply": "2023-12-23T21:25:50.077261Z"
    },
    "papermill": {
     "duration": 0.021306,
     "end_time": "2023-12-23T21:25:50.080493",
     "exception": false,
     "start_time": "2023-12-23T21:25:50.059187",
     "status": "completed"
    },
    "tags": []
   },
   "outputs": [],
   "source": [
    "if training_mode: \n",
    "    history_df.loc[:, ['loss', 'val_loss']].plot(title=\"Training and Validation loss\")"
   ]
  },
  {
   "cell_type": "code",
   "execution_count": 18,
   "id": "61522802",
   "metadata": {
    "execution": {
     "iopub.execute_input": "2023-12-23T21:25:50.109020Z",
     "iopub.status.busy": "2023-12-23T21:25:50.108751Z",
     "iopub.status.idle": "2023-12-23T21:25:50.113626Z",
     "shell.execute_reply": "2023-12-23T21:25:50.112596Z"
    },
    "papermill": {
     "duration": 0.020668,
     "end_time": "2023-12-23T21:25:50.115676",
     "exception": false,
     "start_time": "2023-12-23T21:25:50.095008",
     "status": "completed"
    },
    "tags": []
   },
   "outputs": [],
   "source": [
    "if training_mode: \n",
    "    history_df = pd.DataFrame(history.history)\n",
    "    history_df.loc[:, ['accuracy', 'val_accuracy']].plot(title=\"Training and Validation accuracy\")"
   ]
  },
  {
   "cell_type": "code",
   "execution_count": 19,
   "id": "9cdd3eaf",
   "metadata": {
    "execution": {
     "iopub.execute_input": "2023-12-23T21:25:50.146548Z",
     "iopub.status.busy": "2023-12-23T21:25:50.146252Z",
     "iopub.status.idle": "2023-12-23T21:25:50.151354Z",
     "shell.execute_reply": "2023-12-23T21:25:50.150356Z"
    },
    "papermill": {
     "duration": 0.02305,
     "end_time": "2023-12-23T21:25:50.153617",
     "exception": false,
     "start_time": "2023-12-23T21:25:50.130567",
     "status": "completed"
    },
    "tags": []
   },
   "outputs": [],
   "source": [
    "#Best Epoch History \n",
    "if training_mode: \n",
    "    best_epoch = history_df['val_loss'].idxmin()\n",
    "    best_epoch_history = history_df.iloc[best_epoch]\n",
    "    print(f\"best epoch {best_epoch}\")\n",
    "    print(best_epoch_history)"
   ]
  },
  {
   "cell_type": "markdown",
   "id": "3a5b383a",
   "metadata": {
    "papermill": {
     "duration": 0.014343,
     "end_time": "2023-12-23T21:25:50.182573",
     "exception": false,
     "start_time": "2023-12-23T21:25:50.168230",
     "status": "completed"
    },
    "tags": []
   },
   "source": [
    "### Error Analysis: Look at images that were misclassified in the validation set"
   ]
  },
  {
   "cell_type": "code",
   "execution_count": 20,
   "id": "798e9744",
   "metadata": {
    "execution": {
     "iopub.execute_input": "2023-12-23T21:25:50.212171Z",
     "iopub.status.busy": "2023-12-23T21:25:50.211850Z",
     "iopub.status.idle": "2023-12-23T21:25:50.216147Z",
     "shell.execute_reply": "2023-12-23T21:25:50.215230Z"
    },
    "papermill": {
     "duration": 0.021089,
     "end_time": "2023-12-23T21:25:50.218102",
     "exception": false,
     "start_time": "2023-12-23T21:25:50.197013",
     "status": "completed"
    },
    "tags": []
   },
   "outputs": [],
   "source": [
    "def get_predicted_digit(predictions): \n",
    "    return np.argmax(predictions, axis=1)"
   ]
  },
  {
   "cell_type": "code",
   "execution_count": 21,
   "id": "41e1b2a9",
   "metadata": {
    "execution": {
     "iopub.execute_input": "2023-12-23T21:25:50.246847Z",
     "iopub.status.busy": "2023-12-23T21:25:50.246567Z",
     "iopub.status.idle": "2023-12-23T21:25:50.251485Z",
     "shell.execute_reply": "2023-12-23T21:25:50.250624Z"
    },
    "papermill": {
     "duration": 0.021807,
     "end_time": "2023-12-23T21:25:50.253515",
     "exception": false,
     "start_time": "2023-12-23T21:25:50.231708",
     "status": "completed"
    },
    "tags": []
   },
   "outputs": [],
   "source": [
    "if training_mode: \n",
    "    val_generator_non_shuffled = val_generator_non_shuffled_creator(total_images, total_labels)\n",
    "\n",
    "    val_predictions = model.predict(val_generator_non_shuffled)\n",
    "    val_predictions = get_predicted_digit(val_predictions)\n",
    "    val_true = val_generator_non_shuffled.y.astype(int)\n",
    "    print(f\"val predictions {val_predictions}\")\n",
    "    print(f\"val true label {val_true}\")"
   ]
  },
  {
   "cell_type": "code",
   "execution_count": 22,
   "id": "e0a0e9c2",
   "metadata": {
    "execution": {
     "iopub.execute_input": "2023-12-23T21:25:50.282547Z",
     "iopub.status.busy": "2023-12-23T21:25:50.282289Z",
     "iopub.status.idle": "2023-12-23T21:25:50.286888Z",
     "shell.execute_reply": "2023-12-23T21:25:50.286002Z"
    },
    "papermill": {
     "duration": 0.02167,
     "end_time": "2023-12-23T21:25:50.289078",
     "exception": false,
     "start_time": "2023-12-23T21:25:50.267408",
     "status": "completed"
    },
    "tags": []
   },
   "outputs": [],
   "source": [
    "if training_mode: \n",
    "    val_label_df = pd.DataFrame({'val_pred': val_predictions,\n",
    "                                'val_true': val_true})"
   ]
  },
  {
   "cell_type": "code",
   "execution_count": 23,
   "id": "40336dc4",
   "metadata": {
    "execution": {
     "iopub.execute_input": "2023-12-23T21:25:50.316828Z",
     "iopub.status.busy": "2023-12-23T21:25:50.316143Z",
     "iopub.status.idle": "2023-12-23T21:25:50.320703Z",
     "shell.execute_reply": "2023-12-23T21:25:50.319847Z"
    },
    "papermill": {
     "duration": 0.02075,
     "end_time": "2023-12-23T21:25:50.322699",
     "exception": false,
     "start_time": "2023-12-23T21:25:50.301949",
     "status": "completed"
    },
    "tags": []
   },
   "outputs": [],
   "source": [
    "if training_mode: \n",
    "    mislabeled_indices = val_label_df.index[val_label_df['val_pred'] != val_label_df['val_true']]\n",
    "    print(mislabeled_indices)\n",
    "    print(f\"mislabeled count: {len(mislabeled_indices)}\")"
   ]
  },
  {
   "cell_type": "code",
   "execution_count": 24,
   "id": "7ec16f63",
   "metadata": {
    "execution": {
     "iopub.execute_input": "2023-12-23T21:25:50.350695Z",
     "iopub.status.busy": "2023-12-23T21:25:50.350372Z",
     "iopub.status.idle": "2023-12-23T21:25:50.354234Z",
     "shell.execute_reply": "2023-12-23T21:25:50.353387Z"
    },
    "papermill": {
     "duration": 0.020291,
     "end_time": "2023-12-23T21:25:50.356291",
     "exception": false,
     "start_time": "2023-12-23T21:25:50.336000",
     "status": "completed"
    },
    "tags": []
   },
   "outputs": [],
   "source": [
    "image_index = 0\n",
    "max_images = 12"
   ]
  },
  {
   "cell_type": "code",
   "execution_count": 25,
   "id": "05ef87a6",
   "metadata": {
    "execution": {
     "iopub.execute_input": "2023-12-23T21:25:50.384183Z",
     "iopub.status.busy": "2023-12-23T21:25:50.383893Z",
     "iopub.status.idle": "2023-12-23T21:25:50.390378Z",
     "shell.execute_reply": "2023-12-23T21:25:50.389490Z"
    },
    "papermill": {
     "duration": 0.023148,
     "end_time": "2023-12-23T21:25:50.392472",
     "exception": false,
     "start_time": "2023-12-23T21:25:50.369324",
     "status": "completed"
    },
    "tags": []
   },
   "outputs": [],
   "source": [
    "if training_mode: \n",
    "    image_index += max_images\n",
    "    image_index %= len(mislabeled_indices)\n",
    "    for i in range(image_index-max_images, image_index):\n",
    "        plt.subplot(3, 4, (i % max_images) + 1)\n",
    "        index = mislabeled_indices[i]\n",
    "        img = val_generator_non_shuffled.x[index]\n",
    "        correct_label=val_generator_non_shuffled.y[index]\n",
    "        pred_label=val_predictions[index]\n",
    "        plt.imshow(img)\n",
    "        plt.title(f\"P:{pred_label} C:{correct_label}\")\n",
    "        plt.axis('off')\n",
    "    plt.suptitle(\"MisLabled Images\")\n",
    "\n",
    "    plt.show()"
   ]
  },
  {
   "cell_type": "markdown",
   "id": "1f83ddca",
   "metadata": {
    "papermill": {
     "duration": 0.013443,
     "end_time": "2023-12-23T21:25:50.419880",
     "exception": false,
     "start_time": "2023-12-23T21:25:50.406437",
     "status": "completed"
    },
    "tags": []
   },
   "source": [
    "### Create Submission"
   ]
  },
  {
   "cell_type": "code",
   "execution_count": 26,
   "id": "b7e933b6",
   "metadata": {
    "execution": {
     "iopub.execute_input": "2023-12-23T21:25:50.447943Z",
     "iopub.status.busy": "2023-12-23T21:25:50.447651Z",
     "iopub.status.idle": "2023-12-23T21:31:53.297945Z",
     "shell.execute_reply": "2023-12-23T21:31:53.296967Z"
    },
    "papermill": {
     "duration": 362.867107,
     "end_time": "2023-12-23T21:31:53.300385",
     "exception": false,
     "start_time": "2023-12-23T21:25:50.433278",
     "status": "completed"
    },
    "tags": []
   },
   "outputs": [
    {
     "name": "stdout",
     "output_type": "stream",
     "text": [
      "Epoch 1/20\n",
      "1313/1313 [==============================] - 32s 13ms/step - loss: 0.4199 - accuracy: 0.8628 - lr: 0.0010\n",
      "Epoch 2/20\n",
      "1313/1313 [==============================] - 17s 13ms/step - loss: 0.1505 - accuracy: 0.9532 - lr: 0.0010\n",
      "Epoch 3/20\n",
      "1313/1313 [==============================] - 17s 13ms/step - loss: 0.1198 - accuracy: 0.9624 - lr: 0.0010\n",
      "Epoch 4/20\n",
      "1313/1313 [==============================] - 17s 13ms/step - loss: 0.0986 - accuracy: 0.9695 - lr: 0.0010\n",
      "Epoch 5/20\n",
      "1313/1313 [==============================] - 18s 13ms/step - loss: 0.0900 - accuracy: 0.9724 - lr: 0.0010\n",
      "Epoch 6/20\n",
      "1313/1313 [==============================] - 17s 13ms/step - loss: 0.0831 - accuracy: 0.9737 - lr: 0.0010\n",
      "Epoch 7/20\n",
      "1313/1313 [==============================] - 17s 13ms/step - loss: 0.0772 - accuracy: 0.9756 - lr: 0.0010\n",
      "Epoch 8/20\n",
      "1313/1313 [==============================] - 17s 13ms/step - loss: 0.0666 - accuracy: 0.9791 - lr: 9.0484e-04\n",
      "Epoch 9/20\n",
      "1313/1313 [==============================] - 17s 13ms/step - loss: 0.0606 - accuracy: 0.9819 - lr: 8.1873e-04\n",
      "Epoch 10/20\n",
      "1313/1313 [==============================] - 18s 14ms/step - loss: 0.0551 - accuracy: 0.9829 - lr: 7.4082e-04\n",
      "Epoch 11/20\n",
      "1313/1313 [==============================] - 17s 13ms/step - loss: 0.0498 - accuracy: 0.9849 - lr: 6.7032e-04\n",
      "Epoch 12/20\n",
      "1313/1313 [==============================] - 18s 13ms/step - loss: 0.0489 - accuracy: 0.9845 - lr: 6.0653e-04\n",
      "Epoch 13/20\n",
      "1313/1313 [==============================] - 17s 13ms/step - loss: 0.0432 - accuracy: 0.9864 - lr: 5.4881e-04\n",
      "Epoch 14/20\n",
      "1313/1313 [==============================] - 17s 13ms/step - loss: 0.0429 - accuracy: 0.9865 - lr: 4.9659e-04\n",
      "Epoch 15/20\n",
      "1313/1313 [==============================] - 17s 13ms/step - loss: 0.0406 - accuracy: 0.9879 - lr: 4.4933e-04\n",
      "Epoch 16/20\n",
      "1313/1313 [==============================] - 18s 14ms/step - loss: 0.0377 - accuracy: 0.9883 - lr: 4.0657e-04\n",
      "Epoch 17/20\n",
      "1313/1313 [==============================] - 18s 14ms/step - loss: 0.0327 - accuracy: 0.9896 - lr: 3.6788e-04\n",
      "Epoch 18/20\n",
      "1313/1313 [==============================] - 17s 13ms/step - loss: 0.0342 - accuracy: 0.9894 - lr: 3.3287e-04\n",
      "Epoch 19/20\n",
      "1313/1313 [==============================] - 17s 13ms/step - loss: 0.0312 - accuracy: 0.9905 - lr: 3.0119e-04\n",
      "Epoch 20/20\n",
      "1313/1313 [==============================] - 17s 13ms/step - loss: 0.0315 - accuracy: 0.9910 - lr: 2.7253e-04\n"
     ]
    }
   ],
   "source": [
    "if not training_mode:\n",
    "    history = model.fit(total_generator,\n",
    "                        epochs=20,\n",
    "                        callbacks=[learning_rate_callback],\n",
    "                        verbose=1)"
   ]
  },
  {
   "cell_type": "code",
   "execution_count": 27,
   "id": "7ede2cc1",
   "metadata": {
    "execution": {
     "iopub.execute_input": "2023-12-23T21:31:54.346690Z",
     "iopub.status.busy": "2023-12-23T21:31:54.345774Z",
     "iopub.status.idle": "2023-12-23T21:31:56.393753Z",
     "shell.execute_reply": "2023-12-23T21:31:56.392637Z"
    },
    "papermill": {
     "duration": 2.57986,
     "end_time": "2023-12-23T21:31:56.396123",
     "exception": false,
     "start_time": "2023-12-23T21:31:53.816263",
     "status": "completed"
    },
    "tags": []
   },
   "outputs": [
    {
     "name": "stdout",
     "output_type": "stream",
     "text": [
      "875/875 [==============================] - 1s 2ms/step\n",
      "test predictions example: [2 0 9 0 3]\n"
     ]
    }
   ],
   "source": [
    "test_predictions = model.predict(test_images) \n",
    "test_predictions = get_predicted_digit(test_predictions)\n",
    "print(f\"test predictions example: {test_predictions[:5]}\")"
   ]
  },
  {
   "cell_type": "code",
   "execution_count": 28,
   "id": "4dc4ff13",
   "metadata": {
    "execution": {
     "iopub.execute_input": "2023-12-23T21:31:57.466722Z",
     "iopub.status.busy": "2023-12-23T21:31:57.466347Z",
     "iopub.status.idle": "2023-12-23T21:31:59.796370Z",
     "shell.execute_reply": "2023-12-23T21:31:59.795451Z"
    },
    "papermill": {
     "duration": 2.842576,
     "end_time": "2023-12-23T21:31:59.798463",
     "exception": false,
     "start_time": "2023-12-23T21:31:56.955887",
     "status": "completed"
    },
    "tags": []
   },
   "outputs": [
    {
     "data": {
      "image/png": "[encoded data removed]",
      "text/plain": [
       "<Figure size 1200x1200 with 12 Axes>"
      ]
     },
     "metadata": {},
     "output_type": "display_data"
    }
   ],
   "source": [
    "plot_digits(test_images, labels=test_predictions, title=\"Test Predictions\")"
   ]
  },
  {
   "cell_type": "code",
   "execution_count": 29,
   "id": "fba4b71a",
   "metadata": {
    "execution": {
     "iopub.execute_input": "2023-12-23T21:32:00.895467Z",
     "iopub.status.busy": "2023-12-23T21:32:00.895103Z",
     "iopub.status.idle": "2023-12-23T21:32:00.990030Z",
     "shell.execute_reply": "2023-12-23T21:32:00.989009Z"
    },
    "papermill": {
     "duration": 0.661158,
     "end_time": "2023-12-23T21:32:00.992103",
     "exception": false,
     "start_time": "2023-12-23T21:32:00.330945",
     "status": "completed"
    },
    "tags": []
   },
   "outputs": [
    {
     "name": "stdout",
     "output_type": "stream",
     "text": [
      "(28000, 2)\n",
      "Submission File Created!!!!!!\n"
     ]
    }
   ],
   "source": [
    "output = pd.DataFrame({'ImageID': list(range(1, len(test_images)+1)),\n",
    "                       'Label': test_predictions})\n",
    "print(output.shape)\n",
    "output.to_csv('submission.csv', index=False)\n",
    "print(\"Submission File Created!!!!!!\")"
   ]
  }
 ],
 "metadata": {
  "kaggle": {
   "accelerator": "nvidiaTeslaT4",
   "dataSources": [
    {
     "databundleVersionId": 861823,
     "sourceId": 3004,
     "sourceType": "competition"
    }
   ],
   "dockerImageVersionId": 30615,
   "isGpuEnabled": true,
   "isInternetEnabled": true,
   "language": "python",
   "sourceType": "notebook"
  },
  "kernelspec": {
   "display_name": "Python 3",
   "language": "python",
   "name": "python3"
  },
  "language_info": {
   "codemirror_mode": {
    "name": "ipython",
    "version": 3
   },
   "file_extension": ".py",
   "mimetype": "text/x-python",
   "name": "python",
   "nbconvert_exporter": "python",
   "pygments_lexer": "ipython3",
   "version": "3.10.12"
  },
  "papermill": {
   "default_parameters": {},
   "duration": 418.58115,
   "end_time": "2023-12-23T21:32:04.971086",
   "environment_variables": {},
   "exception": null,
   "input_path": "__notebook__.ipynb",
   "output_path": "__notebook__.ipynb",
   "parameters": {},
   "start_time": "2023-12-23T21:25:06.389936",
   "version": "2.4.0"
  }
 },
 "nbformat": 4,
 "nbformat_minor": 5
}
